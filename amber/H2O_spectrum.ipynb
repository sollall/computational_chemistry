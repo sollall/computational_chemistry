{
 "cells": [
  {
   "cell_type": "code",
   "execution_count": 10,
   "metadata": {},
   "outputs": [],
   "source": [
    "import psi4\n",
    "#https://colab.research.google.com/github/RyokoKuga/psi4_tut/blob/main/Psi4_tut_3.ipynb#scrollTo=Z2SUnE96qFt3"
   ]
  },
  {
   "cell_type": "code",
   "execution_count": 18,
   "metadata": {},
   "outputs": [
    {
     "name": "stdout",
     "output_type": "stream",
     "text": [
      "Optimizer: Optimization complete!\n"
     ]
    }
   ],
   "source": [
    "### 構造最適化計算 ###\n",
    "# 出力ファイルの保存\n",
    "psi4.core.set_output_file(\"H2O_opt.out\")\n",
    "\n",
    "# 分子構造の指定\n",
    "mol = psi4.geometry(\"\"\"\n",
    "N    0.00000000    -0.00000000    -0.06931370\n",
    "H    0.00000000     0.94311105     0.32106944\n",
    "H   -0.81675813    -0.47155553     0.32106944\n",
    "H    0.81675813    -0.47155553     0.32106944\n",
    "         \n",
    "\"\"\")\n",
    "\n",
    "# 計算方法の指定\n",
    "scf_e, wfn = psi4.optimize(\"HF/6-31G(d)\", return_wfn = True)"
   ]
  },
  {
   "cell_type": "code",
   "execution_count": 19,
   "metadata": {},
   "outputs": [],
   "source": [
    "### 振動解析計算 ###\n",
    "# 出力ファイルの保存\n",
    "psi4.core.set_output_file(\"H2O_frq.out\")\n",
    "\n",
    "# moldenファイルの保存\n",
    "psi4.set_options({\"NORMAL_MODES_WRITE\": True})\n",
    "\n",
    "# 計算方法の指定\n",
    "scf_e, wfn = psi4.frequency(\"HF/6-31G(d)\", ref_gradient = wfn.gradient(), return_wfn = True)"
   ]
  },
  {
   "cell_type": "code",
   "execution_count": 20,
   "metadata": {},
   "outputs": [
    {
     "data": {
      "text/plain": [
       "array([ 1209.20915223,  1849.62615277,  1849.62615324,  3689.42370180,\n",
       "        3822.46965232,  3822.46965307])"
      ]
     },
     "execution_count": 20,
     "metadata": {},
     "output_type": "execute_result"
    }
   ],
   "source": [
    "# 振動数の確認\n",
    "wfn.frequencies().to_array()\n"
   ]
  },
  {
   "cell_type": "code",
   "execution_count": null,
   "metadata": {},
   "outputs": [],
   "source": []
  }
 ],
 "metadata": {
  "kernelspec": {
   "display_name": "p4dev",
   "language": "python",
   "name": "python3"
  },
  "language_info": {
   "codemirror_mode": {
    "name": "ipython",
    "version": 3
   },
   "file_extension": ".py",
   "mimetype": "text/x-python",
   "name": "python",
   "nbconvert_exporter": "python",
   "pygments_lexer": "ipython3",
   "version": "3.10.11 (main, Apr 20 2023, 19:02:41) [GCC 11.2.0]"
  },
  "orig_nbformat": 4,
  "vscode": {
   "interpreter": {
    "hash": "7721b0fa9c4a27d451b171f102aa934bb22287ed7b4e32f28eed0b22a4dcbfcb"
   }
  }
 },
 "nbformat": 4,
 "nbformat_minor": 2
}
