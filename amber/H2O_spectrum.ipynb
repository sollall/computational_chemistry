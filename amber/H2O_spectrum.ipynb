{
 "cells": [
  {
   "cell_type": "code",
   "execution_count": 1,
   "metadata": {},
   "outputs": [
    {
     "name": "stdout",
     "output_type": "stream",
     "text": [
      "['AtomicComputer', 'ConvergenceError', 'Dict', 'EmpiricalDispersion', 'ManagedMethodError', 'MissingMethodError', 'OptimizationConvergenceError', 'Optional', 'ParsingError', 'PastureRequiredError', 'Path', 'PsiException', 'QMMM', 'QMMMbohr', 'SCFConvergenceError', 'TDSCFConvergenceError', 'TestComparisonError', 'Tuple', 'Union', 'UpgradeHelper', 'ValidationError', '__builtins__', '__cached__', '__doc__', '__file__', '__loader__', '__name__', '__package__', '__path__', '__spec__', '__version__', 'activate', 'addons', 'aliases', 'atexit', 'banner', 'basis_helper', 'cbs', 'compare', 'compare_arrays', 'compare_cubes', 'compare_fchkfiles', 'compare_fcidumps', 'compare_integers', 'compare_matrices', 'compare_moldenfiles', 'compare_molrecs', 'compare_recursive', 'compare_strings', 'compare_values', 'compare_vectors', 'compare_wavefunctions', 'constants', 'copy', 'copy_file_from_scratch', 'copy_file_to_scratch', 'core', 'create_plugin', 'cubeprop', 'dependency_check', 'dft', 'diatomic', 'diis', 'docs_table_link', 'driver', 'driver_cbs', 'driver_cbs_helper', 'driver_findif', 'driver_nbody', 'driver_nbody_multilevel', 'driver_util', 'dynamic_variable_bind', 'empirical_dispersion', 'endorsed_plugins', 'energies_from_fcidump', 'energy', 'energy_only_methods', 'executable', 'extras', 'fchk', 'fcidump', 'fcidump_from_file', 'find_approximate_string_matches', 'findif_response_utils', 'frac', 'freq', 'frequencies', 'frequency', 'gaussian_n', 'gdma', 'geometry', 'get_input_directory', 'get_memory', 'get_num_threads', 'get_variable', 'gradient', 'header', 'hessian', 'hooks', 'inputparser', 'integrated_basis_methods', 'interface_cfour', 'ipi_broker', 'json', 'json_wrapper', 'levenshtein', 'libcubeprop', 'logger', 'logging', 'mcscf', 'mdi_engine', 'mdi_run', 'message_box', 'metadata', 'molden', 'molecule_get_attr', 'molecule_set_attr', 'molutil', 'np', 'nppp', 'nppp10', 'oeprop', 'opt', 'optimize', 'optimize_geometric', 'os', 'p4util', 'pcm_helper', 'pickle', 'pluginutil', 'pp', 'pprint', 'print_header', 'proc', 'proc_data', 'proc_table', 'proc_util', 'procedures', 'process_input', 'procrouting', 'prop', 'properties', 'psif', 'psifiles', 'qcdb', 'qcel', 'qmmm', 're', 'response', 'roa', 'root', 'sanitize_method', 'sanitize_name', 'sapt', 'scf_helper', 'scf_proc', 'scf_wavefunction_factory', 'schema_wrapper', 'set_memory', 'set_module_options', 'set_num_threads', 'set_options', 'set_output_file', 'set_variable', 'shutil', 'solvent', 'sys', 'task_base', 'task_planner', 'tdscf', 'temp_circular_import_blocker', 'test', 'util', 'variable', 'version_formatter', 'vibanal_wfn', 'wrapper_autofrag', 'wrapper_database']\n"
     ]
    }
   ],
   "source": [
    "import psi4\n",
    "print(dir(psi4))\n",
    "#https://colab.research.google.com/github/RyokoKuga/psi4_tut/blob/main/Psi4_tut_3.ipynb#scrollTo=Z2SUnE96qFt3"
   ]
  },
  {
   "cell_type": "code",
   "execution_count": 13,
   "metadata": {},
   "outputs": [
    {
     "name": "stdout",
     "output_type": "stream",
     "text": [
      "Optimizer: Optimization complete!\n"
     ]
    }
   ],
   "source": [
    "### 構造最適化計算 ###\n",
    "# 出力ファイルの保存\n",
    "psi4.core.set_output_file(\"H2O_opt.out\")\n",
    "\n",
    "# 分子構造の指定\n",
    "mol = psi4.geometry(\"\"\"\n",
    "N    0.00000000    -0.00000000    -0.06931370\n",
    "H    0.00000000     0.94311105     0.32106944\n",
    "H   -0.81675813    -0.47155553     0.32106944\n",
    "H    0.81675813    -0.47155553     0.32106944\n",
    "         \n",
    "\"\"\")\n",
    "\n",
    "# 計算方法の指定\n",
    "scf_e, wfn = psi4.optimize(\"HF/6-31G(d)\", return_wfn = True)"
   ]
  },
  {
   "cell_type": "code",
   "execution_count": 20,
   "metadata": {},
   "outputs": [
    {
     "name": "stdout",
     "output_type": "stream",
     "text": [
      "Optimizer: Optimization complete!\n"
     ]
    }
   ],
   "source": [
    "### 構造最適化計算 ###\n",
    "# 出力ファイルの保存\n",
    "psi4.core.set_output_file(\"H2O_opt.out\")\n",
    "\n",
    "# 分子構造の指定 \n",
    "#https://pubchem.ncbi.nlm.nih.gov/compound/7416#section=2D-Structure\n",
    "mol = psi4.geometry(\"\"\"\n",
    "O 2.349400 1.097600 0.000000\n",
    "O 2.349400 -1.097600 0.000200\n",
    "N 1.741500 0.000000 -0.000100\n",
    "C 0.321500 0.000000 -0.000200\n",
    "C -0.375900 1.208000 0.000000\n",
    "C -0.375900 -1.208000 -0.000100\n",
    "C -1.770800 1.208000 0.000100\n",
    "C -1.770800 -1.208000 0.000000\n",
    "C -2.468300 0.000000 0.000100\n",
    "H 0.133800 2.168100 -0.000100\n",
    "H 0.133800 -2.168000 -0.000200\n",
    "H -2.314400 2.148300 0.000100\n",
    "H -2.314300 -2.148300 0.000000\n",
    "H -3.554400 0.000000 0.000200\n",
    "\"\"\")\n",
    "\n",
    "# 計算方法の指定\n",
    "scf_e, wfn = psi4.optimize(\"HF/6-31G(d)\", return_wfn = True)"
   ]
  },
  {
   "cell_type": "code",
   "execution_count": 21,
   "metadata": {},
   "outputs": [
    {
     "name": "stdout",
     "output_type": "stream",
     "text": [
      "Warning: used thermodynamics relations inappropriate for low-frequency modes: ['55.0737' '191.5397' '285.0097' '435.1730' '457.4753' '488.4556'\n",
      " '571.5664']\n"
     ]
    }
   ],
   "source": [
    "### 振動解析計算 ###\n",
    "# 出力ファイルの保存\n",
    "psi4.core.set_output_file(\"H2O_frq.out\")\n",
    "\n",
    "# moldenファイルの保存\n",
    "psi4.set_options({\"NORMAL_MODES_WRITE\": True})\n",
    "\n",
    "# 計算方法の指定\n",
    "scf_e, wfn = psi4.frequency(\"HF/6-31G(d)\", ref_gradient = wfn.gradient(), return_wfn = True)"
   ]
  },
  {
   "cell_type": "code",
   "execution_count": 22,
   "metadata": {},
   "outputs": [
    {
     "data": {
      "text/plain": [
       "array([   55.07368381,   191.53967472,   285.00970479,   435.17298612,\n",
       "         457.47526003,   488.45559360,   571.56638896,   671.34484922,\n",
       "         743.94397230,   755.15723402,   809.26164855,   902.97165065,\n",
       "         956.60168809,   962.61571360,  1083.26332087,  1093.94707591,\n",
       "        1117.68160995,  1124.36152898,  1139.11067155,  1183.68332729,\n",
       "        1234.14764212,  1241.25911022,  1298.53094274,  1356.52679735,\n",
       "        1465.15471818,  1623.27516279,  1639.51698107,  1661.73327776,\n",
       "        1784.87553742,  1794.67976343,  1867.14749386,  3372.64867629,\n",
       "        3388.28660480,  3398.05629056,  3439.72849799,  3439.80057242])"
      ]
     },
     "execution_count": 22,
     "metadata": {},
     "output_type": "execute_result"
    }
   ],
   "source": [
    "# 振動数の確認\n",
    "wfn.frequencies().to_array()\n"
   ]
  },
  {
   "cell_type": "code",
   "execution_count": null,
   "metadata": {},
   "outputs": [],
   "source": []
  }
 ],
 "metadata": {
  "kernelspec": {
   "display_name": "p4dev",
   "language": "python",
   "name": "python3"
  },
  "language_info": {
   "codemirror_mode": {
    "name": "ipython",
    "version": 3
   },
   "file_extension": ".py",
   "mimetype": "text/x-python",
   "name": "python",
   "nbconvert_exporter": "python",
   "pygments_lexer": "ipython3",
   "version": "3.9.16"
  },
  "orig_nbformat": 4,
  "vscode": {
   "interpreter": {
    "hash": "7721b0fa9c4a27d451b171f102aa934bb22287ed7b4e32f28eed0b22a4dcbfcb"
   }
  }
 },
 "nbformat": 4,
 "nbformat_minor": 2
}
